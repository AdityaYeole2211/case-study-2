{
 "cells": [
  {
   "cell_type": "code",
   "execution_count": 1,
   "id": "6945d4a3",
   "metadata": {},
   "outputs": [],
   "source": [
    "import numpy as np\n",
    "import pandas as pd\n",
    "import matplotlib.pyplot as plt\n",
    "import seaborn as sns\n",
    "\n"
   ]
  },
  {
   "cell_type": "markdown",
   "id": "c5f1386d",
   "metadata": {},
   "source": [
    "#### Load data: "
   ]
  },
  {
   "cell_type": "code",
   "execution_count": 2,
   "id": "014a8b37",
   "metadata": {},
   "outputs": [
    {
     "name": "stdout",
     "output_type": "stream",
     "text": [
      "['User Data', 'Property Data']\n"
     ]
    }
   ],
   "source": [
    "file_path = 'data.xlsx'\n",
    "xls = pd.ExcelFile(file_path)\n",
    "\n",
    "print(xls.sheet_names)\n",
    "\n"
   ]
  },
  {
   "cell_type": "code",
   "execution_count": 3,
   "id": "e2a70edf",
   "metadata": {},
   "outputs": [
    {
     "data": {
      "text/html": [
       "<div>\n",
       "<style scoped>\n",
       "    .dataframe tbody tr th:only-of-type {\n",
       "        vertical-align: middle;\n",
       "    }\n",
       "\n",
       "    .dataframe tbody tr th {\n",
       "        vertical-align: top;\n",
       "    }\n",
       "\n",
       "    .dataframe thead th {\n",
       "        text-align: right;\n",
       "    }\n",
       "</style>\n",
       "<table border=\"1\" class=\"dataframe\">\n",
       "  <thead>\n",
       "    <tr style=\"text-align: right;\">\n",
       "      <th></th>\n",
       "      <th>User ID</th>\n",
       "      <th>Budget</th>\n",
       "      <th>Bedrooms</th>\n",
       "      <th>Bathrooms</th>\n",
       "      <th>Qualitative Description</th>\n",
       "    </tr>\n",
       "  </thead>\n",
       "  <tbody>\n",
       "    <tr>\n",
       "      <th>5</th>\n",
       "      <td>6</td>\n",
       "      <td>$600k</td>\n",
       "      <td>4</td>\n",
       "      <td>3</td>\n",
       "      <td>\"I’m looking for a luxurious home where I can ...</td>\n",
       "    </tr>\n",
       "    <tr>\n",
       "      <th>18</th>\n",
       "      <td>19</td>\n",
       "      <td>$400k</td>\n",
       "      <td>3</td>\n",
       "      <td>2</td>\n",
       "      <td>\"I’d love a home with a lake view and a cozy f...</td>\n",
       "    </tr>\n",
       "  </tbody>\n",
       "</table>\n",
       "</div>"
      ],
      "text/plain": [
       "    User ID Budget  Bedrooms  Bathrooms  \\\n",
       "5         6  $600k         4          3   \n",
       "18       19  $400k         3          2   \n",
       "\n",
       "                              Qualitative Description  \n",
       "5   \"I’m looking for a luxurious home where I can ...  \n",
       "18  \"I’d love a home with a lake view and a cozy f...  "
      ]
     },
     "execution_count": 3,
     "metadata": {},
     "output_type": "execute_result"
    }
   ],
   "source": [
    "user_df = xls.parse('User Data')\n",
    "property_df = xls.parse('Property Data')\n",
    "\n",
    "user_df.sample(2)"
   ]
  },
  {
   "cell_type": "code",
   "execution_count": 4,
   "id": "558b5af0",
   "metadata": {},
   "outputs": [
    {
     "data": {
      "text/html": [
       "<div>\n",
       "<style scoped>\n",
       "    .dataframe tbody tr th:only-of-type {\n",
       "        vertical-align: middle;\n",
       "    }\n",
       "\n",
       "    .dataframe tbody tr th {\n",
       "        vertical-align: top;\n",
       "    }\n",
       "\n",
       "    .dataframe thead th {\n",
       "        text-align: right;\n",
       "    }\n",
       "</style>\n",
       "<table border=\"1\" class=\"dataframe\">\n",
       "  <thead>\n",
       "    <tr style=\"text-align: right;\">\n",
       "      <th></th>\n",
       "      <th>Property ID</th>\n",
       "      <th>Price</th>\n",
       "      <th>Bedrooms</th>\n",
       "      <th>Bathrooms</th>\n",
       "      <th>Living Area (sq ft)</th>\n",
       "      <th>Qualitative Description</th>\n",
       "    </tr>\n",
       "  </thead>\n",
       "  <tbody>\n",
       "    <tr>\n",
       "      <th>16</th>\n",
       "      <td>17</td>\n",
       "      <td>$250k</td>\n",
       "      <td>4</td>\n",
       "      <td>3</td>\n",
       "      <td>3801</td>\n",
       "      <td>For those who appreciate vintage charm, this h...</td>\n",
       "    </tr>\n",
       "    <tr>\n",
       "      <th>19</th>\n",
       "      <td>20</td>\n",
       "      <td>$500k</td>\n",
       "      <td>3</td>\n",
       "      <td>3</td>\n",
       "      <td>1884</td>\n",
       "      <td>Adventure awaits at this ski-in/ski-out mounta...</td>\n",
       "    </tr>\n",
       "  </tbody>\n",
       "</table>\n",
       "</div>"
      ],
      "text/plain": [
       "    Property ID  Price  Bedrooms  Bathrooms  Living Area (sq ft)  \\\n",
       "16           17  $250k         4          3                 3801   \n",
       "19           20  $500k         3          3                 1884   \n",
       "\n",
       "                              Qualitative Description  \n",
       "16  For those who appreciate vintage charm, this h...  \n",
       "19  Adventure awaits at this ski-in/ski-out mounta...  "
      ]
     },
     "execution_count": 4,
     "metadata": {},
     "output_type": "execute_result"
    }
   ],
   "source": [
    "property_df.sample(2)"
   ]
  },
  {
   "cell_type": "code",
   "execution_count": 5,
   "id": "545abc8a",
   "metadata": {},
   "outputs": [
    {
     "name": "stdout",
     "output_type": "stream",
     "text": [
      "<class 'pandas.core.frame.DataFrame'>\n",
      "RangeIndex: 30 entries, 0 to 29\n",
      "Data columns (total 6 columns):\n",
      " #   Column                   Non-Null Count  Dtype \n",
      "---  ------                   --------------  ----- \n",
      " 0   Property ID              30 non-null     int64 \n",
      " 1   Price                    30 non-null     object\n",
      " 2   Bedrooms                 30 non-null     int64 \n",
      " 3   Bathrooms                30 non-null     int64 \n",
      " 4   Living Area (sq ft)      30 non-null     int64 \n",
      " 5   Qualitative Description  30 non-null     object\n",
      "dtypes: int64(4), object(2)\n",
      "memory usage: 1.5+ KB\n"
     ]
    }
   ],
   "source": [
    "# user_df.info()\n",
    "property_df.info()"
   ]
  },
  {
   "cell_type": "markdown",
   "id": "c02fe500",
   "metadata": {},
   "source": [
    "#### Preprocessing "
   ]
  },
  {
   "cell_type": "code",
   "execution_count": 6,
   "id": "e127f300",
   "metadata": {},
   "outputs": [],
   "source": [
    "# removing dollar sign and k \n",
    "def convert_money_string(value):\n",
    "    if(isinstance(value, str)):\n",
    "        value = value.strip().replace('$', '').lower()\n",
    "        if('k' in  value):\n",
    "            return float(value.replace('k', ''))*1_000\n",
    "        else:\n",
    "            try:\n",
    "                return float(value.replace(',', ''))\n",
    "            except : \n",
    "                return None\n",
    "    \n",
    "    return value\n"
   ]
  },
  {
   "cell_type": "code",
   "execution_count": 7,
   "id": "265d8e90",
   "metadata": {},
   "outputs": [],
   "source": [
    "user_df['Budget'] = user_df['Budget'].apply(convert_money_string)\n",
    "property_df['Price'] = property_df['Price'].apply(convert_money_string)"
   ]
  },
  {
   "cell_type": "code",
   "execution_count": 8,
   "id": "b94de7f4",
   "metadata": {},
   "outputs": [
    {
     "name": "stdout",
     "output_type": "stream",
     "text": [
      "<class 'pandas.core.series.Series'>\n",
      "RangeIndex: 25 entries, 0 to 24\n",
      "Series name: Budget\n",
      "Non-Null Count  Dtype  \n",
      "--------------  -----  \n",
      "25 non-null     float64\n",
      "dtypes: float64(1)\n",
      "memory usage: 328.0 bytes\n",
      "<class 'pandas.core.series.Series'>\n",
      "RangeIndex: 30 entries, 0 to 29\n",
      "Series name: Price\n",
      "Non-Null Count  Dtype  \n",
      "--------------  -----  \n",
      "30 non-null     float64\n",
      "dtypes: float64(1)\n",
      "memory usage: 368.0 bytes\n"
     ]
    }
   ],
   "source": [
    "user_df['Budget'].info()\n",
    "property_df['Price'].info()"
   ]
  },
  {
   "cell_type": "code",
   "execution_count": 9,
   "id": "f5514e41",
   "metadata": {},
   "outputs": [],
   "source": [
    "user_df['Budget'] = pd.to_numeric(user_df['Budget'], errors='coerce')\n",
    "property_df['Price'] = pd.to_numeric(property_df['Price'], errors='coerce')"
   ]
  },
  {
   "cell_type": "code",
   "execution_count": 10,
   "id": "fb4a58db",
   "metadata": {},
   "outputs": [
    {
     "name": "stdout",
     "output_type": "stream",
     "text": [
      "<class 'pandas.core.series.Series'>\n",
      "RangeIndex: 25 entries, 0 to 24\n",
      "Series name: Budget\n",
      "Non-Null Count  Dtype  \n",
      "--------------  -----  \n",
      "25 non-null     float64\n",
      "dtypes: float64(1)\n",
      "memory usage: 328.0 bytes\n",
      "<class 'pandas.core.series.Series'>\n",
      "RangeIndex: 30 entries, 0 to 29\n",
      "Series name: Price\n",
      "Non-Null Count  Dtype  \n",
      "--------------  -----  \n",
      "30 non-null     float64\n",
      "dtypes: float64(1)\n",
      "memory usage: 368.0 bytes\n"
     ]
    }
   ],
   "source": [
    "user_df['Budget'].info()\n",
    "property_df['Price'].info()"
   ]
  },
  {
   "cell_type": "code",
   "execution_count": 11,
   "id": "11b2cfe7",
   "metadata": {},
   "outputs": [],
   "source": [
    "#rename cols \n",
    "property_df = property_df.rename(columns={\n",
    "    'Property ID' : 'PropertyId',\n",
    "    'Living Area (sq ft)' : 'LivingArea',\n",
    "    'Qualitative Description' : 'PropertyDesc'\n",
    "})\n",
    "\n",
    "user_df = user_df.rename(columns={\n",
    "    'User ID' : 'UserId',\n",
    "    'Qualitative Description' : 'UserDesc'\n",
    "})\n",
    "\n"
   ]
  },
  {
   "cell_type": "code",
   "execution_count": 12,
   "id": "6db9f73f",
   "metadata": {},
   "outputs": [
    {
     "data": {
      "text/plain": [
       "Index(['UserId', 'Budget', 'Bedrooms', 'Bathrooms', 'UserDesc'], dtype='object')"
      ]
     },
     "execution_count": 12,
     "metadata": {},
     "output_type": "execute_result"
    }
   ],
   "source": [
    "user_df.columns\n",
    "# property_df.columns"
   ]
  },
  {
   "cell_type": "code",
   "execution_count": 13,
   "id": "740968dd",
   "metadata": {},
   "outputs": [
    {
     "name": "stdout",
     "output_type": "stream",
     "text": [
      "User df null :  UserId       0\n",
      "Budget       0\n",
      "Bedrooms     0\n",
      "Bathrooms    0\n",
      "UserDesc     0\n",
      "dtype: int64\n",
      "property df null :  PropertyId      0\n",
      "Price           0\n",
      "Bedrooms        0\n",
      "Bathrooms       0\n",
      "LivingArea      0\n",
      "PropertyDesc    0\n",
      "dtype: int64\n"
     ]
    }
   ],
   "source": [
    "#find if null \n",
    "print(\"User df null : \",  user_df.isnull().sum())\n",
    "print(\"property df null : \",  property_df.isnull().sum())"
   ]
  },
  {
   "cell_type": "code",
   "execution_count": 14,
   "id": "fb487533",
   "metadata": {},
   "outputs": [
    {
     "name": "stdout",
     "output_type": "stream",
     "text": [
      "User df dups :  0\n",
      "property df dups :  0\n"
     ]
    }
   ],
   "source": [
    "#duplicates \n",
    "print(\"User df dups : \",  user_df.duplicated().sum())\n",
    "print(\"property df dups : \",  property_df.duplicated().sum())"
   ]
  },
  {
   "cell_type": "code",
   "execution_count": 15,
   "id": "3f23f939",
   "metadata": {},
   "outputs": [
    {
     "data": {
      "text/html": [
       "<div>\n",
       "<style scoped>\n",
       "    .dataframe tbody tr th:only-of-type {\n",
       "        vertical-align: middle;\n",
       "    }\n",
       "\n",
       "    .dataframe tbody tr th {\n",
       "        vertical-align: top;\n",
       "    }\n",
       "\n",
       "    .dataframe thead th {\n",
       "        text-align: right;\n",
       "    }\n",
       "</style>\n",
       "<table border=\"1\" class=\"dataframe\">\n",
       "  <thead>\n",
       "    <tr style=\"text-align: right;\">\n",
       "      <th></th>\n",
       "      <th>UserId</th>\n",
       "      <th>Budget</th>\n",
       "      <th>Bedrooms</th>\n",
       "      <th>Bathrooms</th>\n",
       "    </tr>\n",
       "  </thead>\n",
       "  <tbody>\n",
       "    <tr>\n",
       "      <th>count</th>\n",
       "      <td>25.000000</td>\n",
       "      <td>25.000000</td>\n",
       "      <td>25.000000</td>\n",
       "      <td>25.000000</td>\n",
       "    </tr>\n",
       "    <tr>\n",
       "      <th>mean</th>\n",
       "      <td>13.000000</td>\n",
       "      <td>456000.000000</td>\n",
       "      <td>3.120000</td>\n",
       "      <td>2.160000</td>\n",
       "    </tr>\n",
       "    <tr>\n",
       "      <th>std</th>\n",
       "      <td>7.359801</td>\n",
       "      <td>156338.308379</td>\n",
       "      <td>0.971253</td>\n",
       "      <td>0.943398</td>\n",
       "    </tr>\n",
       "    <tr>\n",
       "      <th>min</th>\n",
       "      <td>1.000000</td>\n",
       "      <td>200000.000000</td>\n",
       "      <td>2.000000</td>\n",
       "      <td>1.000000</td>\n",
       "    </tr>\n",
       "    <tr>\n",
       "      <th>25%</th>\n",
       "      <td>7.000000</td>\n",
       "      <td>350000.000000</td>\n",
       "      <td>2.000000</td>\n",
       "      <td>1.000000</td>\n",
       "    </tr>\n",
       "    <tr>\n",
       "      <th>50%</th>\n",
       "      <td>13.000000</td>\n",
       "      <td>450000.000000</td>\n",
       "      <td>3.000000</td>\n",
       "      <td>2.000000</td>\n",
       "    </tr>\n",
       "    <tr>\n",
       "      <th>75%</th>\n",
       "      <td>19.000000</td>\n",
       "      <td>550000.000000</td>\n",
       "      <td>4.000000</td>\n",
       "      <td>3.000000</td>\n",
       "    </tr>\n",
       "    <tr>\n",
       "      <th>max</th>\n",
       "      <td>25.000000</td>\n",
       "      <td>800000.000000</td>\n",
       "      <td>5.000000</td>\n",
       "      <td>4.000000</td>\n",
       "    </tr>\n",
       "  </tbody>\n",
       "</table>\n",
       "</div>"
      ],
      "text/plain": [
       "          UserId         Budget   Bedrooms  Bathrooms\n",
       "count  25.000000      25.000000  25.000000  25.000000\n",
       "mean   13.000000  456000.000000   3.120000   2.160000\n",
       "std     7.359801  156338.308379   0.971253   0.943398\n",
       "min     1.000000  200000.000000   2.000000   1.000000\n",
       "25%     7.000000  350000.000000   2.000000   1.000000\n",
       "50%    13.000000  450000.000000   3.000000   2.000000\n",
       "75%    19.000000  550000.000000   4.000000   3.000000\n",
       "max    25.000000  800000.000000   5.000000   4.000000"
      ]
     },
     "execution_count": 15,
     "metadata": {},
     "output_type": "execute_result"
    }
   ],
   "source": [
    "user_df.describe()\n"
   ]
  },
  {
   "cell_type": "code",
   "execution_count": 16,
   "id": "38aed153",
   "metadata": {},
   "outputs": [
    {
     "data": {
      "text/html": [
       "<div>\n",
       "<style scoped>\n",
       "    .dataframe tbody tr th:only-of-type {\n",
       "        vertical-align: middle;\n",
       "    }\n",
       "\n",
       "    .dataframe tbody tr th {\n",
       "        vertical-align: top;\n",
       "    }\n",
       "\n",
       "    .dataframe thead th {\n",
       "        text-align: right;\n",
       "    }\n",
       "</style>\n",
       "<table border=\"1\" class=\"dataframe\">\n",
       "  <thead>\n",
       "    <tr style=\"text-align: right;\">\n",
       "      <th></th>\n",
       "      <th>PropertyId</th>\n",
       "      <th>Price</th>\n",
       "      <th>Bedrooms</th>\n",
       "      <th>Bathrooms</th>\n",
       "      <th>LivingArea</th>\n",
       "    </tr>\n",
       "  </thead>\n",
       "  <tbody>\n",
       "    <tr>\n",
       "      <th>count</th>\n",
       "      <td>30.000000</td>\n",
       "      <td>30.000000</td>\n",
       "      <td>30.000000</td>\n",
       "      <td>30.000000</td>\n",
       "      <td>30.000000</td>\n",
       "    </tr>\n",
       "    <tr>\n",
       "      <th>mean</th>\n",
       "      <td>15.500000</td>\n",
       "      <td>536666.666667</td>\n",
       "      <td>3.433333</td>\n",
       "      <td>2.166667</td>\n",
       "      <td>2589.300000</td>\n",
       "    </tr>\n",
       "    <tr>\n",
       "      <th>std</th>\n",
       "      <td>8.803408</td>\n",
       "      <td>213320.761124</td>\n",
       "      <td>1.406471</td>\n",
       "      <td>1.085431</td>\n",
       "      <td>965.264664</td>\n",
       "    </tr>\n",
       "    <tr>\n",
       "      <th>min</th>\n",
       "      <td>1.000000</td>\n",
       "      <td>250000.000000</td>\n",
       "      <td>1.000000</td>\n",
       "      <td>1.000000</td>\n",
       "      <td>936.000000</td>\n",
       "    </tr>\n",
       "    <tr>\n",
       "      <th>25%</th>\n",
       "      <td>8.250000</td>\n",
       "      <td>300000.000000</td>\n",
       "      <td>2.000000</td>\n",
       "      <td>1.000000</td>\n",
       "      <td>1872.500000</td>\n",
       "    </tr>\n",
       "    <tr>\n",
       "      <th>50%</th>\n",
       "      <td>15.500000</td>\n",
       "      <td>550000.000000</td>\n",
       "      <td>4.000000</td>\n",
       "      <td>2.000000</td>\n",
       "      <td>2745.000000</td>\n",
       "    </tr>\n",
       "    <tr>\n",
       "      <th>75%</th>\n",
       "      <td>22.750000</td>\n",
       "      <td>775000.000000</td>\n",
       "      <td>4.750000</td>\n",
       "      <td>3.000000</td>\n",
       "      <td>3361.000000</td>\n",
       "    </tr>\n",
       "    <tr>\n",
       "      <th>max</th>\n",
       "      <td>30.000000</td>\n",
       "      <td>800000.000000</td>\n",
       "      <td>5.000000</td>\n",
       "      <td>4.000000</td>\n",
       "      <td>3993.000000</td>\n",
       "    </tr>\n",
       "  </tbody>\n",
       "</table>\n",
       "</div>"
      ],
      "text/plain": [
       "       PropertyId          Price   Bedrooms  Bathrooms   LivingArea\n",
       "count   30.000000      30.000000  30.000000  30.000000    30.000000\n",
       "mean    15.500000  536666.666667   3.433333   2.166667  2589.300000\n",
       "std      8.803408  213320.761124   1.406471   1.085431   965.264664\n",
       "min      1.000000  250000.000000   1.000000   1.000000   936.000000\n",
       "25%      8.250000  300000.000000   2.000000   1.000000  1872.500000\n",
       "50%     15.500000  550000.000000   4.000000   2.000000  2745.000000\n",
       "75%     22.750000  775000.000000   4.750000   3.000000  3361.000000\n",
       "max     30.000000  800000.000000   5.000000   4.000000  3993.000000"
      ]
     },
     "execution_count": 16,
     "metadata": {},
     "output_type": "execute_result"
    }
   ],
   "source": [
    "property_df.describe()"
   ]
  },
  {
   "cell_type": "code",
   "execution_count": 17,
   "id": "e358c2be",
   "metadata": {},
   "outputs": [
    {
     "data": {
      "image/png": "[encoded data removed]",
      "text/plain": [
       "<Figure size 1400x600 with 2 Axes>"
      ]
     },
     "metadata": {},
     "output_type": "display_data"
    }
   ],
   "source": [
    "# finding relationship between total_rooms and price in propery \n",
    "fig, axes = plt.subplots(1, 2, figsize = (14,6))\n",
    "\n",
    "sns.scatterplot(x = property_df['Bathrooms'] + property_df['Bedrooms'], y = property_df['Price'], ax = axes[0])\n",
    "axes[0].set_title('TotalRooms Vs Price (Property)')\n",
    "axes[0].set_xlabel('TotalRooms')\n",
    "axes[0].set_ylabel('Price')\n",
    "\n",
    "sns.scatterplot(x = user_df['Bathrooms'] + user_df['Bedrooms'], y = user_df['Budget'], ax = axes[1])\n",
    "axes[1].set_title('TotalRooms Vs Price (User)')\n",
    "axes[1].set_xlabel('TotalRooms')\n",
    "axes[1].set_ylabel('Price')\n",
    "\n",
    "plt.tight_layout()\n",
    "plt.show()"
   ]
  },
  {
   "cell_type": "code",
   "execution_count": 18,
   "id": "5da19e7e",
   "metadata": {},
   "outputs": [
    {
     "data": {
      "text/plain": [
       "((25, 5), (30, 6))"
      ]
     },
     "execution_count": 18,
     "metadata": {},
     "output_type": "execute_result"
    }
   ],
   "source": [
    "(user_df.shape, property_df.shape)"
   ]
  },
  {
   "cell_type": "code",
   "execution_count": null,
   "id": "779497f7",
   "metadata": {},
   "outputs": [
    {
     "name": "stderr",
     "output_type": "stream",
     "text": [
      "c:\\Users\\yeole\\Desktop\\case-study-2\\venv\\lib\\site-packages\\tqdm\\auto.py:21: TqdmWarning: IProgress not found. Please update jupyter and ipywidgets. See https://ipywidgets.readthedocs.io/en/stable/user_install.html\n",
      "  from .autonotebook import tqdm as notebook_tqdm\n"
     ]
    }
   ],
   "source": [
    "from sentence_transformers import SentenceTransformer\n",
    "\n",
    "model = SentenceTransformer('all-MiniLM-L6-v2')\n"
   ]
  },
  {
   "cell_type": "code",
   "execution_count": 20,
   "id": "2012cf24",
   "metadata": {},
   "outputs": [],
   "source": [
    "user_df['UserDescEmbedding'] = user_df['UserDesc'].apply(lambda x : model.encode(x))\n",
    "property_df['PropertyDescEmbedding'] = property_df['PropertyDesc'].apply(lambda x : model.encode(x))\n"
   ]
  },
  {
   "cell_type": "code",
   "execution_count": 21,
   "id": "b52c6dc2",
   "metadata": {},
   "outputs": [
    {
     "data": {
      "text/plain": [
       "0    [0.05786801, 0.088496365, 0.04759461, 0.016239...\n",
       "1    [0.061499935, 0.047761843, 0.06053698, 0.11264...\n",
       "2    [0.07994517, 0.048485532, 0.020362388, 0.06166...\n",
       "Name: UserDescEmbedding, dtype: object"
      ]
     },
     "execution_count": 21,
     "metadata": {},
     "output_type": "execute_result"
    }
   ],
   "source": [
    "user_df['UserDescEmbedding'].head(3)"
   ]
  },
  {
   "cell_type": "code",
   "execution_count": 22,
   "id": "7340381f",
   "metadata": {},
   "outputs": [
    {
     "data": {
      "text/plain": [
       "0    [0.034886625, 0.045282524, 0.0004963008, 0.073...\n",
       "1    [0.07131635, 0.078971215, 0.01839154, -0.00641...\n",
       "2    [0.07134424, 0.017568253, 0.06867664, 0.054248...\n",
       "Name: PropertyDescEmbedding, dtype: object"
      ]
     },
     "execution_count": 22,
     "metadata": {},
     "output_type": "execute_result"
    }
   ],
   "source": [
    "property_df['PropertyDescEmbedding'].head(3)\n"
   ]
  },
  {
   "cell_type": "code",
   "execution_count": 23,
   "id": "08f8b27b",
   "metadata": {},
   "outputs": [
    {
     "data": {
      "text/plain": [
       "384"
      ]
     },
     "execution_count": 23,
     "metadata": {},
     "output_type": "execute_result"
    }
   ],
   "source": [
    "len(property_df['PropertyDescEmbedding'][0])"
   ]
  },
  {
   "cell_type": "code",
   "execution_count": 24,
   "id": "7a0f1622",
   "metadata": {},
   "outputs": [
    {
     "data": {
      "text/plain": [
       "(384,)"
      ]
     },
     "execution_count": 24,
     "metadata": {},
     "output_type": "execute_result"
    }
   ],
   "source": [
    "user_df['UserDescEmbedding'][0].shape"
   ]
  },
  {
   "cell_type": "code",
   "execution_count": 25,
   "id": "be0530e2",
   "metadata": {},
   "outputs": [
    {
     "data": {
      "text/plain": [
       "(25,)"
      ]
     },
     "execution_count": 25,
     "metadata": {},
     "output_type": "execute_result"
    }
   ],
   "source": [
    "user_df['UserDescEmbedding'].shape"
   ]
  },
  {
   "cell_type": "code",
   "execution_count": 26,
   "id": "a3754e25",
   "metadata": {},
   "outputs": [
    {
     "name": "stdout",
     "output_type": "stream",
     "text": [
      "<class 'pandas.core.frame.DataFrame'>\n",
      "RangeIndex: 25 entries, 0 to 24\n",
      "Data columns (total 6 columns):\n",
      " #   Column             Non-Null Count  Dtype  \n",
      "---  ------             --------------  -----  \n",
      " 0   UserId             25 non-null     int64  \n",
      " 1   Budget             25 non-null     float64\n",
      " 2   Bedrooms           25 non-null     int64  \n",
      " 3   Bathrooms          25 non-null     int64  \n",
      " 4   UserDesc           25 non-null     object \n",
      " 5   UserDescEmbedding  25 non-null     object \n",
      "dtypes: float64(1), int64(3), object(2)\n",
      "memory usage: 1.3+ KB\n"
     ]
    }
   ],
   "source": [
    "user_df.info()"
   ]
  },
  {
   "cell_type": "code",
   "execution_count": 27,
   "id": "c66f3c93",
   "metadata": {},
   "outputs": [
    {
     "name": "stdout",
     "output_type": "stream",
     "text": [
      "<class 'pandas.core.frame.DataFrame'>\n",
      "RangeIndex: 30 entries, 0 to 29\n",
      "Data columns (total 7 columns):\n",
      " #   Column                 Non-Null Count  Dtype  \n",
      "---  ------                 --------------  -----  \n",
      " 0   PropertyId             30 non-null     int64  \n",
      " 1   Price                  30 non-null     float64\n",
      " 2   Bedrooms               30 non-null     int64  \n",
      " 3   Bathrooms              30 non-null     int64  \n",
      " 4   LivingArea             30 non-null     int64  \n",
      " 5   PropertyDesc           30 non-null     object \n",
      " 6   PropertyDescEmbedding  30 non-null     object \n",
      "dtypes: float64(1), int64(4), object(2)\n",
      "memory usage: 1.8+ KB\n"
     ]
    }
   ],
   "source": [
    "property_df.info()"
   ]
  },
  {
   "cell_type": "code",
   "execution_count": 28,
   "id": "df6182c5",
   "metadata": {},
   "outputs": [],
   "source": [
    "#scaling nnumerical values \n",
    "from sklearn.preprocessing import MinMaxScaler\n",
    "\n",
    "user_df['Price'] = 0\n",
    "user_df['LivingArea'] = 0\n",
    "property_df['Budget'] = 0\n",
    "num_cols = ['Budget', 'Price', 'LivingArea', 'Bedrooms', 'Bathrooms']\n",
    "# num_cols_property = ['Budget', 'Price', 'LivingArea', 'Bedrooms', 'Bathrooms']\n",
    "\n",
    "\n",
    "\n",
    "scaler = MinMaxScaler()\n",
    "# property_scaler = MinMaxScaler()\n",
    "\n",
    "user_df[num_cols] = scaler.fit_transform(user_df[num_cols])\n",
    "property_df[num_cols] = scaler.transform(property_df[num_cols])\n"
   ]
  },
  {
   "cell_type": "code",
   "execution_count": 29,
   "id": "a9f51d5f",
   "metadata": {},
   "outputs": [
    {
     "data": {
      "text/html": [
       "<div>\n",
       "<style scoped>\n",
       "    .dataframe tbody tr th:only-of-type {\n",
       "        vertical-align: middle;\n",
       "    }\n",
       "\n",
       "    .dataframe tbody tr th {\n",
       "        vertical-align: top;\n",
       "    }\n",
       "\n",
       "    .dataframe thead th {\n",
       "        text-align: right;\n",
       "    }\n",
       "</style>\n",
       "<table border=\"1\" class=\"dataframe\">\n",
       "  <thead>\n",
       "    <tr style=\"text-align: right;\">\n",
       "      <th></th>\n",
       "      <th>UserId</th>\n",
       "      <th>Budget</th>\n",
       "      <th>Bedrooms</th>\n",
       "      <th>Bathrooms</th>\n",
       "      <th>Price</th>\n",
       "      <th>LivingArea</th>\n",
       "    </tr>\n",
       "  </thead>\n",
       "  <tbody>\n",
       "    <tr>\n",
       "      <th>count</th>\n",
       "      <td>25.000000</td>\n",
       "      <td>25.000000</td>\n",
       "      <td>25.000000</td>\n",
       "      <td>25.000000</td>\n",
       "      <td>25.0</td>\n",
       "      <td>25.0</td>\n",
       "    </tr>\n",
       "    <tr>\n",
       "      <th>mean</th>\n",
       "      <td>13.000000</td>\n",
       "      <td>0.426667</td>\n",
       "      <td>0.373333</td>\n",
       "      <td>0.386667</td>\n",
       "      <td>0.0</td>\n",
       "      <td>0.0</td>\n",
       "    </tr>\n",
       "    <tr>\n",
       "      <th>std</th>\n",
       "      <td>7.359801</td>\n",
       "      <td>0.260564</td>\n",
       "      <td>0.323751</td>\n",
       "      <td>0.314466</td>\n",
       "      <td>0.0</td>\n",
       "      <td>0.0</td>\n",
       "    </tr>\n",
       "    <tr>\n",
       "      <th>min</th>\n",
       "      <td>1.000000</td>\n",
       "      <td>0.000000</td>\n",
       "      <td>0.000000</td>\n",
       "      <td>0.000000</td>\n",
       "      <td>0.0</td>\n",
       "      <td>0.0</td>\n",
       "    </tr>\n",
       "    <tr>\n",
       "      <th>25%</th>\n",
       "      <td>7.000000</td>\n",
       "      <td>0.250000</td>\n",
       "      <td>0.000000</td>\n",
       "      <td>0.000000</td>\n",
       "      <td>0.0</td>\n",
       "      <td>0.0</td>\n",
       "    </tr>\n",
       "    <tr>\n",
       "      <th>50%</th>\n",
       "      <td>13.000000</td>\n",
       "      <td>0.416667</td>\n",
       "      <td>0.333333</td>\n",
       "      <td>0.333333</td>\n",
       "      <td>0.0</td>\n",
       "      <td>0.0</td>\n",
       "    </tr>\n",
       "    <tr>\n",
       "      <th>75%</th>\n",
       "      <td>19.000000</td>\n",
       "      <td>0.583333</td>\n",
       "      <td>0.666667</td>\n",
       "      <td>0.666667</td>\n",
       "      <td>0.0</td>\n",
       "      <td>0.0</td>\n",
       "    </tr>\n",
       "    <tr>\n",
       "      <th>max</th>\n",
       "      <td>25.000000</td>\n",
       "      <td>1.000000</td>\n",
       "      <td>1.000000</td>\n",
       "      <td>1.000000</td>\n",
       "      <td>0.0</td>\n",
       "      <td>0.0</td>\n",
       "    </tr>\n",
       "  </tbody>\n",
       "</table>\n",
       "</div>"
      ],
      "text/plain": [
       "          UserId     Budget   Bedrooms  Bathrooms  Price  LivingArea\n",
       "count  25.000000  25.000000  25.000000  25.000000   25.0        25.0\n",
       "mean   13.000000   0.426667   0.373333   0.386667    0.0         0.0\n",
       "std     7.359801   0.260564   0.323751   0.314466    0.0         0.0\n",
       "min     1.000000   0.000000   0.000000   0.000000    0.0         0.0\n",
       "25%     7.000000   0.250000   0.000000   0.000000    0.0         0.0\n",
       "50%    13.000000   0.416667   0.333333   0.333333    0.0         0.0\n",
       "75%    19.000000   0.583333   0.666667   0.666667    0.0         0.0\n",
       "max    25.000000   1.000000   1.000000   1.000000    0.0         0.0"
      ]
     },
     "execution_count": 29,
     "metadata": {},
     "output_type": "execute_result"
    }
   ],
   "source": [
    "user_df.describe()"
   ]
  },
  {
   "cell_type": "code",
   "execution_count": 30,
   "id": "ff41651b",
   "metadata": {},
   "outputs": [
    {
     "data": {
      "text/html": [
       "<div>\n",
       "<style scoped>\n",
       "    .dataframe tbody tr th:only-of-type {\n",
       "        vertical-align: middle;\n",
       "    }\n",
       "\n",
       "    .dataframe tbody tr th {\n",
       "        vertical-align: top;\n",
       "    }\n",
       "\n",
       "    .dataframe thead th {\n",
       "        text-align: right;\n",
       "    }\n",
       "</style>\n",
       "<table border=\"1\" class=\"dataframe\">\n",
       "  <thead>\n",
       "    <tr style=\"text-align: right;\">\n",
       "      <th></th>\n",
       "      <th>PropertyId</th>\n",
       "      <th>Price</th>\n",
       "      <th>Bedrooms</th>\n",
       "      <th>Bathrooms</th>\n",
       "      <th>LivingArea</th>\n",
       "      <th>Budget</th>\n",
       "    </tr>\n",
       "  </thead>\n",
       "  <tbody>\n",
       "    <tr>\n",
       "      <th>count</th>\n",
       "      <td>30.000000</td>\n",
       "      <td>30.000000</td>\n",
       "      <td>30.000000</td>\n",
       "      <td>30.000000</td>\n",
       "      <td>30.000000</td>\n",
       "      <td>3.000000e+01</td>\n",
       "    </tr>\n",
       "    <tr>\n",
       "      <th>mean</th>\n",
       "      <td>15.500000</td>\n",
       "      <td>536666.666667</td>\n",
       "      <td>0.477778</td>\n",
       "      <td>0.388889</td>\n",
       "      <td>2589.300000</td>\n",
       "      <td>-3.333333e-01</td>\n",
       "    </tr>\n",
       "    <tr>\n",
       "      <th>std</th>\n",
       "      <td>8.803408</td>\n",
       "      <td>213320.761124</td>\n",
       "      <td>0.468824</td>\n",
       "      <td>0.361810</td>\n",
       "      <td>965.264664</td>\n",
       "      <td>1.129203e-16</td>\n",
       "    </tr>\n",
       "    <tr>\n",
       "      <th>min</th>\n",
       "      <td>1.000000</td>\n",
       "      <td>250000.000000</td>\n",
       "      <td>-0.333333</td>\n",
       "      <td>0.000000</td>\n",
       "      <td>936.000000</td>\n",
       "      <td>-3.333333e-01</td>\n",
       "    </tr>\n",
       "    <tr>\n",
       "      <th>25%</th>\n",
       "      <td>8.250000</td>\n",
       "      <td>300000.000000</td>\n",
       "      <td>0.000000</td>\n",
       "      <td>0.000000</td>\n",
       "      <td>1872.500000</td>\n",
       "      <td>-3.333333e-01</td>\n",
       "    </tr>\n",
       "    <tr>\n",
       "      <th>50%</th>\n",
       "      <td>15.500000</td>\n",
       "      <td>550000.000000</td>\n",
       "      <td>0.666667</td>\n",
       "      <td>0.333333</td>\n",
       "      <td>2745.000000</td>\n",
       "      <td>-3.333333e-01</td>\n",
       "    </tr>\n",
       "    <tr>\n",
       "      <th>75%</th>\n",
       "      <td>22.750000</td>\n",
       "      <td>775000.000000</td>\n",
       "      <td>0.916667</td>\n",
       "      <td>0.666667</td>\n",
       "      <td>3361.000000</td>\n",
       "      <td>-3.333333e-01</td>\n",
       "    </tr>\n",
       "    <tr>\n",
       "      <th>max</th>\n",
       "      <td>30.000000</td>\n",
       "      <td>800000.000000</td>\n",
       "      <td>1.000000</td>\n",
       "      <td>1.000000</td>\n",
       "      <td>3993.000000</td>\n",
       "      <td>-3.333333e-01</td>\n",
       "    </tr>\n",
       "  </tbody>\n",
       "</table>\n",
       "</div>"
      ],
      "text/plain": [
       "       PropertyId          Price   Bedrooms  Bathrooms   LivingArea  \\\n",
       "count   30.000000      30.000000  30.000000  30.000000    30.000000   \n",
       "mean    15.500000  536666.666667   0.477778   0.388889  2589.300000   \n",
       "std      8.803408  213320.761124   0.468824   0.361810   965.264664   \n",
       "min      1.000000  250000.000000  -0.333333   0.000000   936.000000   \n",
       "25%      8.250000  300000.000000   0.000000   0.000000  1872.500000   \n",
       "50%     15.500000  550000.000000   0.666667   0.333333  2745.000000   \n",
       "75%     22.750000  775000.000000   0.916667   0.666667  3361.000000   \n",
       "max     30.000000  800000.000000   1.000000   1.000000  3993.000000   \n",
       "\n",
       "             Budget  \n",
       "count  3.000000e+01  \n",
       "mean  -3.333333e-01  \n",
       "std    1.129203e-16  \n",
       "min   -3.333333e-01  \n",
       "25%   -3.333333e-01  \n",
       "50%   -3.333333e-01  \n",
       "75%   -3.333333e-01  \n",
       "max   -3.333333e-01  "
      ]
     },
     "execution_count": 30,
     "metadata": {},
     "output_type": "execute_result"
    }
   ],
   "source": [
    "property_df.describe()"
   ]
  },
  {
   "cell_type": "code",
   "execution_count": 31,
   "id": "7d300aa1",
   "metadata": {},
   "outputs": [],
   "source": [
    "# #calculate cosine similarity \n",
    "# from sklearn.metrics.pairwise import cosine_similarity\n",
    "\n",
    "# numerical_similarity = cosine_similarity(user_df[num_cols], property_df[num_cols])\n",
    "\n",
    "# description_similarity = cosine_similarity(\n",
    "#     list(user_df['UserDescEmbedding']),\n",
    "#     list(property_df['PropertyDescEmbedding'])\n",
    "# )\n",
    "\n",
    "# match_scores = 0.5 * numerical_similarity + 0.5*description_similarity\n",
    "\n",
    "\n",
    "# from sklearn.metrics.pairwise import cosine_similarity\n",
    "# import numpy as np\n",
    "\n",
    "# # Step 1: Calculate Cosine Similarity for Numerical Data (users vs properties)\n",
    "# numerical_similarity = cosine_similarity(user_df[num_cols], property_df[num_cols])\n",
    "\n",
    "# # Step 2: Calculate Cosine Similarity for Text Descriptions (users vs properties)\n",
    "# description_similarity = cosine_similarity(\n",
    "#     list(user_df['UserDescEmbedding']),\n",
    "#     list(property_df['PropertyDescEmbedding'])\n",
    "# )\n",
    "\n",
    "# # Step 3: Combine both similarities (weighting can be adjusted as needed)\n",
    "# match_scores = 0.5 * numerical_similarity + 0.5 * description_similarity\n",
    "\n",
    "# # Example: Get the match score between the first user and the first property\n",
    "# print(match_scores[0, 0])\n"
   ]
  },
  {
   "cell_type": "code",
   "execution_count": 32,
   "id": "8b704cf5",
   "metadata": {},
   "outputs": [
    {
     "data": {
      "text/html": [
       "<div>\n",
       "<style scoped>\n",
       "    .dataframe tbody tr th:only-of-type {\n",
       "        vertical-align: middle;\n",
       "    }\n",
       "\n",
       "    .dataframe tbody tr th {\n",
       "        vertical-align: top;\n",
       "    }\n",
       "\n",
       "    .dataframe thead th {\n",
       "        text-align: right;\n",
       "    }\n",
       "</style>\n",
       "<table border=\"1\" class=\"dataframe\">\n",
       "  <thead>\n",
       "    <tr style=\"text-align: right;\">\n",
       "      <th></th>\n",
       "      <th>PropertyId</th>\n",
       "      <th>Price</th>\n",
       "      <th>Bedrooms</th>\n",
       "      <th>Bathrooms</th>\n",
       "      <th>LivingArea</th>\n",
       "      <th>PropertyDesc</th>\n",
       "      <th>PropertyDescEmbedding</th>\n",
       "      <th>Budget</th>\n",
       "    </tr>\n",
       "  </thead>\n",
       "  <tbody>\n",
       "    <tr>\n",
       "      <th>21</th>\n",
       "      <td>22</td>\n",
       "      <td>400000.0</td>\n",
       "      <td>1.000000</td>\n",
       "      <td>0.0</td>\n",
       "      <td>2227.0</td>\n",
       "      <td>A sanctuary in the city, this modern home feat...</td>\n",
       "      <td>[0.03647153, 0.074912176, -0.025021445, 0.0021...</td>\n",
       "      <td>-0.333333</td>\n",
       "    </tr>\n",
       "    <tr>\n",
       "      <th>13</th>\n",
       "      <td>14</td>\n",
       "      <td>500000.0</td>\n",
       "      <td>0.333333</td>\n",
       "      <td>0.0</td>\n",
       "      <td>1198.0</td>\n",
       "      <td>This sun-drenched penthouse boasts a wraparoun...</td>\n",
       "      <td>[0.008598341, 0.0076094456, 0.034203894, 0.042...</td>\n",
       "      <td>-0.333333</td>\n",
       "    </tr>\n",
       "  </tbody>\n",
       "</table>\n",
       "</div>"
      ],
      "text/plain": [
       "    PropertyId     Price  Bedrooms  Bathrooms  LivingArea  \\\n",
       "21          22  400000.0  1.000000        0.0      2227.0   \n",
       "13          14  500000.0  0.333333        0.0      1198.0   \n",
       "\n",
       "                                         PropertyDesc  \\\n",
       "21  A sanctuary in the city, this modern home feat...   \n",
       "13  This sun-drenched penthouse boasts a wraparoun...   \n",
       "\n",
       "                                PropertyDescEmbedding    Budget  \n",
       "21  [0.03647153, 0.074912176, -0.025021445, 0.0021... -0.333333  \n",
       "13  [0.008598341, 0.0076094456, 0.034203894, 0.042... -0.333333  "
      ]
     },
     "execution_count": 32,
     "metadata": {},
     "output_type": "execute_result"
    }
   ],
   "source": [
    "property_df.sample(2)"
   ]
  },
  {
   "cell_type": "code",
   "execution_count": 33,
   "id": "f2fd7932",
   "metadata": {},
   "outputs": [
    {
     "data": {
      "text/html": [
       "<div>\n",
       "<style scoped>\n",
       "    .dataframe tbody tr th:only-of-type {\n",
       "        vertical-align: middle;\n",
       "    }\n",
       "\n",
       "    .dataframe tbody tr th {\n",
       "        vertical-align: top;\n",
       "    }\n",
       "\n",
       "    .dataframe thead th {\n",
       "        text-align: right;\n",
       "    }\n",
       "</style>\n",
       "<table border=\"1\" class=\"dataframe\">\n",
       "  <thead>\n",
       "    <tr style=\"text-align: right;\">\n",
       "      <th></th>\n",
       "      <th>UserId</th>\n",
       "      <th>Budget</th>\n",
       "      <th>Bedrooms</th>\n",
       "      <th>Bathrooms</th>\n",
       "      <th>UserDesc</th>\n",
       "      <th>UserDescEmbedding</th>\n",
       "      <th>Price</th>\n",
       "      <th>LivingArea</th>\n",
       "    </tr>\n",
       "  </thead>\n",
       "  <tbody>\n",
       "    <tr>\n",
       "      <th>3</th>\n",
       "      <td>4</td>\n",
       "      <td>0.083333</td>\n",
       "      <td>0.000000</td>\n",
       "      <td>0.333333</td>\n",
       "      <td>\"I need a stylish, open-concept home for my gr...</td>\n",
       "      <td>[0.03644111, 0.011416617, -0.0069035375, 0.076...</td>\n",
       "      <td>0.0</td>\n",
       "      <td>0.0</td>\n",
       "    </tr>\n",
       "    <tr>\n",
       "      <th>0</th>\n",
       "      <td>1</td>\n",
       "      <td>0.500000</td>\n",
       "      <td>0.333333</td>\n",
       "      <td>0.333333</td>\n",
       "      <td>\"I’ve always dreamed of a modern apartment in ...</td>\n",
       "      <td>[0.05786801, 0.088496365, 0.04759461, 0.016239...</td>\n",
       "      <td>0.0</td>\n",
       "      <td>0.0</td>\n",
       "    </tr>\n",
       "  </tbody>\n",
       "</table>\n",
       "</div>"
      ],
      "text/plain": [
       "   UserId    Budget  Bedrooms  Bathrooms  \\\n",
       "3       4  0.083333  0.000000   0.333333   \n",
       "0       1  0.500000  0.333333   0.333333   \n",
       "\n",
       "                                            UserDesc  \\\n",
       "3  \"I need a stylish, open-concept home for my gr...   \n",
       "0  \"I’ve always dreamed of a modern apartment in ...   \n",
       "\n",
       "                                   UserDescEmbedding  Price  LivingArea  \n",
       "3  [0.03644111, 0.011416617, -0.0069035375, 0.076...    0.0         0.0  \n",
       "0  [0.05786801, 0.088496365, 0.04759461, 0.016239...    0.0         0.0  "
      ]
     },
     "execution_count": 33,
     "metadata": {},
     "output_type": "execute_result"
    }
   ],
   "source": [
    "user_df.sample(2)"
   ]
  },
  {
   "cell_type": "code",
   "execution_count": 34,
   "id": "852495e6",
   "metadata": {},
   "outputs": [
    {
     "data": {
      "text/html": [
       "<div>\n",
       "<style scoped>\n",
       "    .dataframe tbody tr th:only-of-type {\n",
       "        vertical-align: middle;\n",
       "    }\n",
       "\n",
       "    .dataframe tbody tr th {\n",
       "        vertical-align: top;\n",
       "    }\n",
       "\n",
       "    .dataframe thead th {\n",
       "        text-align: right;\n",
       "    }\n",
       "</style>\n",
       "<table border=\"1\" class=\"dataframe\">\n",
       "  <thead>\n",
       "    <tr style=\"text-align: right;\">\n",
       "      <th></th>\n",
       "      <th>UserId</th>\n",
       "      <th>Budget</th>\n",
       "      <th>Bedrooms</th>\n",
       "      <th>Bathrooms</th>\n",
       "      <th>UserDesc</th>\n",
       "      <th>UserDescEmbedding</th>\n",
       "    </tr>\n",
       "  </thead>\n",
       "  <tbody>\n",
       "    <tr>\n",
       "      <th>15</th>\n",
       "      <td>16</td>\n",
       "      <td>0.666667</td>\n",
       "      <td>0.666667</td>\n",
       "      <td>0.666667</td>\n",
       "      <td>\"I want a historic home in a walkable neighbor...</td>\n",
       "      <td>[0.07489115, 0.02231046, -0.014202434, 0.01342...</td>\n",
       "    </tr>\n",
       "    <tr>\n",
       "      <th>22</th>\n",
       "      <td>23</td>\n",
       "      <td>0.583333</td>\n",
       "      <td>0.666667</td>\n",
       "      <td>0.666667</td>\n",
       "      <td>\"Dreaming of a home with mountain views and ea...</td>\n",
       "      <td>[-0.024464078, 0.039763056, 0.06479746, 0.0367...</td>\n",
       "    </tr>\n",
       "  </tbody>\n",
       "</table>\n",
       "</div>"
      ],
      "text/plain": [
       "    UserId    Budget  Bedrooms  Bathrooms  \\\n",
       "15      16  0.666667  0.666667   0.666667   \n",
       "22      23  0.583333  0.666667   0.666667   \n",
       "\n",
       "                                             UserDesc  \\\n",
       "15  \"I want a historic home in a walkable neighbor...   \n",
       "22  \"Dreaming of a home with mountain views and ea...   \n",
       "\n",
       "                                    UserDescEmbedding  \n",
       "15  [0.07489115, 0.02231046, -0.014202434, 0.01342...  \n",
       "22  [-0.024464078, 0.039763056, 0.06479746, 0.0367...  "
      ]
     },
     "execution_count": 34,
     "metadata": {},
     "output_type": "execute_result"
    }
   ],
   "source": [
    "user_df.drop(columns=['Price', 'LivingArea'], inplace= True)\n",
    "user_df.sample(2)"
   ]
  },
  {
   "cell_type": "code",
   "execution_count": 35,
   "id": "e6109a85",
   "metadata": {},
   "outputs": [
    {
     "data": {
      "text/html": [
       "<div>\n",
       "<style scoped>\n",
       "    .dataframe tbody tr th:only-of-type {\n",
       "        vertical-align: middle;\n",
       "    }\n",
       "\n",
       "    .dataframe tbody tr th {\n",
       "        vertical-align: top;\n",
       "    }\n",
       "\n",
       "    .dataframe thead th {\n",
       "        text-align: right;\n",
       "    }\n",
       "</style>\n",
       "<table border=\"1\" class=\"dataframe\">\n",
       "  <thead>\n",
       "    <tr style=\"text-align: right;\">\n",
       "      <th></th>\n",
       "      <th>PropertyId</th>\n",
       "      <th>Price</th>\n",
       "      <th>Bedrooms</th>\n",
       "      <th>Bathrooms</th>\n",
       "      <th>LivingArea</th>\n",
       "      <th>PropertyDesc</th>\n",
       "      <th>PropertyDescEmbedding</th>\n",
       "      <th>Budget</th>\n",
       "    </tr>\n",
       "  </thead>\n",
       "  <tbody>\n",
       "    <tr>\n",
       "      <th>29</th>\n",
       "      <td>30</td>\n",
       "      <td>500000.0</td>\n",
       "      <td>0.666667</td>\n",
       "      <td>0.666667</td>\n",
       "      <td>3184.0</td>\n",
       "      <td>A hidden gem nestled among towering oak trees,...</td>\n",
       "      <td>[0.034886625, 0.045282524, 0.0004963008, 0.073...</td>\n",
       "      <td>-0.333333</td>\n",
       "    </tr>\n",
       "    <tr>\n",
       "      <th>24</th>\n",
       "      <td>25</td>\n",
       "      <td>800000.0</td>\n",
       "      <td>-0.333333</td>\n",
       "      <td>0.333333</td>\n",
       "      <td>2822.0</td>\n",
       "      <td>Smart, stylish, and sustainableâ€”this eco-fri...</td>\n",
       "      <td>[-0.022939648, 0.045372877, 0.04868523, 0.0220...</td>\n",
       "      <td>-0.333333</td>\n",
       "    </tr>\n",
       "  </tbody>\n",
       "</table>\n",
       "</div>"
      ],
      "text/plain": [
       "    PropertyId     Price  Bedrooms  Bathrooms  LivingArea  \\\n",
       "29          30  500000.0  0.666667   0.666667      3184.0   \n",
       "24          25  800000.0 -0.333333   0.333333      2822.0   \n",
       "\n",
       "                                         PropertyDesc  \\\n",
       "29  A hidden gem nestled among towering oak trees,...   \n",
       "24  Smart, stylish, and sustainableâ€”this eco-fri...   \n",
       "\n",
       "                                PropertyDescEmbedding    Budget  \n",
       "29  [0.034886625, 0.045282524, 0.0004963008, 0.073... -0.333333  \n",
       "24  [-0.022939648, 0.045372877, 0.04868523, 0.0220... -0.333333  "
      ]
     },
     "execution_count": 35,
     "metadata": {},
     "output_type": "execute_result"
    }
   ],
   "source": [
    "# property_df.drop(columns=['Budget'], inplace=True)\n",
    "property_df.sample(2)"
   ]
  },
  {
   "cell_type": "code",
   "execution_count": 36,
   "id": "48f1e96d",
   "metadata": {},
   "outputs": [],
   "source": [
    "#calculate simimlarity based on common columns only \n",
    "\n",
    "from sklearn.metrics.pairwise import cosine_similarity\n",
    "\n",
    "numerical_similarity = cosine_similarity(\n",
    "    user_df[['Bedrooms', 'Bathrooms']],\n",
    "    property_df[['Bedrooms', 'Bathrooms']]\n",
    ")\n"
   ]
  },
  {
   "cell_type": "code",
   "execution_count": 37,
   "id": "582052d7",
   "metadata": {},
   "outputs": [
    {
     "data": {
      "text/plain": [
       "(25, 30)"
      ]
     },
     "execution_count": 37,
     "metadata": {},
     "output_type": "execute_result"
    }
   ],
   "source": [
    "numerical_similarity.shape"
   ]
  },
  {
   "cell_type": "code",
   "execution_count": 38,
   "id": "df7c8564",
   "metadata": {},
   "outputs": [
    {
     "name": "stdout",
     "output_type": "stream",
     "text": [
      "(25,)\n",
      "(30,)\n",
      "0     [0.05786801, 0.088496365, 0.04759461, 0.016239...\n",
      "1     [0.061499935, 0.047761843, 0.06053698, 0.11264...\n",
      "2     [0.07994517, 0.048485532, 0.020362388, 0.06166...\n",
      "3     [0.03644111, 0.011416617, -0.0069035375, 0.076...\n",
      "4     [0.069856904, 0.036753714, 0.04169739, -0.0070...\n",
      "5     [0.09159423, -0.00031604237, 0.023634503, 0.03...\n",
      "6     [0.009234036, 0.07320262, 0.030344453, 0.04341...\n",
      "7     [0.10985628, 0.013174006, 0.03633388, 0.016529...\n",
      "8     [-0.060269296, 0.051723313, 0.04371966, 0.0592...\n",
      "9     [0.08273484, 0.01886654, 0.027376497, 0.123669...\n",
      "10    [0.052466765, 0.035616517, 0.02128945, 0.01469...\n",
      "11    [0.06972524, 0.022604853, 0.0035510424, 0.0864...\n",
      "12    [0.013514937, 0.013158664, 0.009605994, 0.0040...\n",
      "13    [0.069857486, 0.046649005, -0.014830438, 0.045...\n",
      "14    [0.06579095, 0.0010172985, 0.004573691, 0.0705...\n",
      "15    [0.07489115, 0.02231046, -0.014202434, 0.01342...\n",
      "16    [0.049794067, 0.02665052, -0.008221134, 0.0545...\n",
      "17    [0.016691295, 0.0016497673, 0.09499643, 0.0302...\n",
      "18    [0.01462599, 0.04874925, 0.038146853, 0.021402...\n",
      "19    [0.07729529, -0.015017166, 0.033868656, 0.0884...\n",
      "20    [0.019947216, 0.08976643, 0.03390849, 0.017861...\n",
      "21    [0.046831608, -0.0085185375, 0.031297434, 0.07...\n",
      "22    [-0.024464078, 0.039763056, 0.06479746, 0.0367...\n",
      "23    [0.04124801, 0.021441596, 0.0421715, 0.0701393...\n",
      "24    [0.07029423, -0.007993563, 0.01785262, 0.04769...\n",
      "Name: UserDescEmbedding, dtype: object\n",
      "0     [0.034886625, 0.045282524, 0.0004963008, 0.073...\n",
      "1     [0.07131635, 0.078971215, 0.01839154, -0.00641...\n",
      "2     [0.07134424, 0.017568253, 0.06867664, 0.054248...\n",
      "3     [0.042259913, 0.051193375, -0.025696162, 0.094...\n",
      "4     [0.05144597, 0.009018603, 0.026751116, 0.01197...\n",
      "5     [0.10883071, 0.051335223, 0.041879162, 0.02155...\n",
      "6     [0.03592997, 0.043598708, -0.044762712, 0.0655...\n",
      "7     [0.046168678, 0.006515607, -0.011106628, 0.016...\n",
      "8     [0.065664016, 0.04979507, 0.02069398, -0.03020...\n",
      "9     [0.01796906, 0.002195421, 0.04450134, 0.040989...\n",
      "10    [0.0022263846, 0.060829617, 0.03054181, 0.0087...\n",
      "11    [0.01779028, 0.0020741925, 0.033384815, 0.0055...\n",
      "12    [0.03744271, 0.025003674, 0.031299125, -0.0268...\n",
      "13    [0.008598341, 0.0076094456, 0.034203894, 0.042...\n",
      "14    [0.06630009, 0.02023883, 0.049042054, 0.014173...\n",
      "15    [0.0351719, -0.03696521, 0.021144463, -0.04719...\n",
      "16    [0.026598219, -0.029500501, 0.05778398, -0.003...\n",
      "17    [0.07511822, 0.0456222, 0.033014234, -0.008353...\n",
      "18    [0.091238804, 0.048290584, -0.014012419, 0.046...\n",
      "19    [-0.04544217, 0.11375028, 0.026697874, 0.08345...\n",
      "20    [0.07766243, 0.008743686, 0.0058171516, 0.0243...\n",
      "21    [0.03647153, 0.074912176, -0.025021445, 0.0021...\n",
      "22    [0.050787963, 0.06861538, 0.00182436, 0.041194...\n",
      "23    [-0.016554479, 0.07596127, -0.038414877, 0.005...\n",
      "24    [-0.022939648, 0.045372877, 0.04868523, 0.0220...\n",
      "25    [0.030474756, -0.026189467, 0.02269238, 0.0133...\n",
      "26    [0.12767114, 0.048071373, 0.01105714, -0.00585...\n",
      "27    [0.0018307209, 0.068802685, -0.01036088, -0.04...\n",
      "28    [0.11232014, 0.012873448, 0.0045617283, 0.0609...\n",
      "29    [0.034886625, 0.045282524, 0.0004963008, 0.073...\n",
      "Name: PropertyDescEmbedding, dtype: object\n"
     ]
    }
   ],
   "source": [
    "#descriptions simi\n",
    "# user_df['UserDescEmbedding'][0]\n",
    "\n",
    "# user_embeddings = np.vstack(user_df['UserDescEmbedding'].values)\n",
    "# property_embeddings = np.vstack(property_df['PropertyDescEmbedding'].values)\n",
    "\n",
    "# descriptive_similarity = cosine_similarity(user_embeddings, property_embeddings)\n",
    "print(user_df['UserDescEmbedding'].shape)\n",
    "print(property_df['PropertyDescEmbedding'].shape)\n",
    "\n",
    "print(user_df['UserDescEmbedding'])\n",
    "print(property_df['PropertyDescEmbedding'])\n",
    "\n",
    "\n",
    "\n"
   ]
  },
  {
   "cell_type": "code",
   "execution_count": 40,
   "id": "514839e4",
   "metadata": {},
   "outputs": [
    {
     "name": "stdout",
     "output_type": "stream",
     "text": [
      "(25,)\n",
      "(384,)\n",
      "(30,)\n",
      "(384,)\n"
     ]
    }
   ],
   "source": [
    "print(user_df['UserDescEmbedding'].shape)\n",
    "print(user_df['UserDescEmbedding'][0].shape)\n",
    "print(property_df['PropertyDescEmbedding'].shape)\n",
    "print(property_df['PropertyDescEmbedding'][0].shape)"
   ]
  },
  {
   "cell_type": "code",
   "execution_count": 43,
   "id": "84888249",
   "metadata": {},
   "outputs": [],
   "source": [
    "# convert user_embeddings to  2-d format :\n",
    "user_embeddings = np.vstack([np.array(emb) for emb in user_df['UserDescEmbedding']])\n",
    "property_embeddings = np.vstack([np.array(emb) for emb in property_df['PropertyDescEmbedding']])\n"
   ]
  },
  {
   "cell_type": "code",
   "execution_count": 44,
   "id": "88011900",
   "metadata": {},
   "outputs": [
    {
     "name": "stdout",
     "output_type": "stream",
     "text": [
      "(25, 384)\n",
      "(30, 384)\n"
     ]
    }
   ],
   "source": [
    "\n",
    "print(user_embeddings.shape)\n",
    "print(property_embeddings.shape)"
   ]
  },
  {
   "cell_type": "code",
   "execution_count": 45,
   "id": "e6f87bab",
   "metadata": {},
   "outputs": [],
   "source": [
    "# text similarity \n",
    "description_similarity  = cosine_similarity(user_embeddings, property_embeddings)"
   ]
  },
  {
   "cell_type": "code",
   "execution_count": 46,
   "id": "6dd249ab",
   "metadata": {},
   "outputs": [
    {
     "data": {
      "text/plain": [
       "(25, 30)"
      ]
     },
     "execution_count": 46,
     "metadata": {},
     "output_type": "execute_result"
    }
   ],
   "source": [
    "description_similarity.shape"
   ]
  },
  {
   "cell_type": "code",
   "execution_count": 48,
   "id": "3b971589",
   "metadata": {},
   "outputs": [],
   "source": [
    "#budget \n",
    "#calculate budget match and penalize the budget which are higher over budget ones\n",
    "# budget_match = np.zeros((len(user_df), len(property_df)))\n",
    "# for i, user_budget in  enumerate(user_df['Budget']):\n",
    "#     for j , property_price in enumerate(property_df['Price']):\n",
    "#         # if withtin bufget give full score \n",
    "#         if property_price <= user_budget:\n",
    "#             budget_match[i,j] = 1.0\n",
    "#         else:\n",
    "#             #penaltu = percenatge over bufdget\n",
    "#             overBudget_ratio = property_price / user_budget\n",
    "#             budget_match[i,j] = max(0, 1 - (overBudget_ratio-1)/2 ) #lienar decay\n",
    "        \n",
    "\n",
    "# budget and price are normalixed they may ahve zeros -> dividion by zero  \n",
    "\n",
    "budget_match = np.zeros((len(user_df), len(property_df)))\n",
    "for i, user_budget in  enumerate(user_df['Budget']):\n",
    "    for j , property_price in enumerate(property_df['Price']):\n",
    "        if user_budget == 0:\n",
    "            #minm budget can only afford minm price proerty \n",
    "            if property_price == 0 :\n",
    "                budget_match[i,j] = 1.0\n",
    "            else:\n",
    "                budget_match[i,j] = 0.0\n",
    "        else:\n",
    "            # if withtin bufget give full score \n",
    "            if property_price <= user_budget:\n",
    "                budget_match[i,j] = 1.0\n",
    "            else:\n",
    "                #penaltu = percenatge over bufdget\n",
    "                overBudget_ratio = property_price / user_budget\n",
    "                budget_match[i,j] = max(0, 1 - (overBudget_ratio-1)/2 ) #lienar decay\n",
    "            \n",
    "            \n",
    " \n"
   ]
  },
  {
   "cell_type": "code",
   "execution_count": 51,
   "id": "c838a59e",
   "metadata": {},
   "outputs": [
    {
     "data": {
      "text/plain": [
       "(25, 30)"
      ]
     },
     "execution_count": 51,
     "metadata": {},
     "output_type": "execute_result"
    }
   ],
   "source": [
    "budget_match.shape"
   ]
  },
  {
   "cell_type": "code",
   "execution_count": 81,
   "id": "e8c3ee87",
   "metadata": {},
   "outputs": [],
   "source": [
    "#combine factotrs : \n",
    "match_weights = {\n",
    "    'numerical' : 0.4,\n",
    "    'description' : 0.4,\n",
    "    'budget' : 0.2\n",
    "}"
   ]
  },
  {
   "cell_type": "code",
   "execution_count": 82,
   "id": "e94f4837",
   "metadata": {},
   "outputs": [],
   "source": [
    "match_scores = (\n",
    "    match_weights['numerical'] * numerical_similarity + \n",
    "    match_weights['description'] * description_similarity + \n",
    "    match_weights['budget'] * budget_match\n",
    ")"
   ]
  },
  {
   "cell_type": "code",
   "execution_count": 83,
   "id": "f1fb0011",
   "metadata": {},
   "outputs": [
    {
     "data": {
      "text/plain": [
       "array([[ 0.48755203,  0.39265815,  0.46379209,  0.38342174,  0.54954641,\n",
       "        -0.12755761,  0.52114322,  0.54790289,  0.54887425,  0.52912136,\n",
       "         0.3555299 ,  0.43225405,  0.51533787,  0.42597743,  0.52862396,\n",
       "         0.38800097,  0.46582027,  0.1332252 ,  0.15466404,  0.49772369,\n",
       "         0.49963549,  0.45033086,  0.55395717,  0.42124258,  0.11077998,\n",
       "         0.40455529, -0.14266375,  0.44896573,  0.54003422,  0.52978116],\n",
       "       [ 0.20545419,  0.13628291,  0.17845096,  0.17819515,  0.16860168,\n",
       "         0.15366079,  0.15211605,  0.18621109,  0.15889178,  0.14105217,\n",
       "         0.14301735,  0.12666257,  0.17364131,  0.14701942,  0.23618995,\n",
       "         0.10392783,  0.0985247 ,  0.1220546 ,  0.15502906,  0.13821831,\n",
       "         0.08224937,  0.2000391 ,  0.15299015,  0.09575293,  0.15054266,\n",
       "         0.16391903,  0.17176926,  0.12323256,  0.20041819,  0.20545419],\n",
       "       [ 0.53230822,  0.48677312,  0.45713687,  0.4874337 ,  0.62858158,\n",
       "        -0.08462283,  0.60334153,  0.58391034,  0.54215334,  0.57304941,\n",
       "         0.34438647,  0.4392629 ,  0.53064206,  0.45660454,  0.59850652,\n",
       "         0.40951638,  0.53865976,  0.14937019,  0.18951845,  0.4954028 ,\n",
       "         0.49942031,  0.49507192,  0.58508008,  0.436613  ,  0.20749409,\n",
       "         0.41773129, -0.10340326,  0.46459069,  0.58131726,  0.57453735],\n",
       "       [ 0.30507571,  0.17567968,  0.18018372,  0.61635213,  0.50202079,\n",
       "         0.1779118 ,  0.48460315,  0.35362072,  0.38255937,  0.2875069 ,\n",
       "         0.52717236,  0.13792188,  0.39397076,  0.1883385 ,  0.44837709,\n",
       "         0.12852962,  0.4524556 ,  0.11001033,  0.15707937,  0.49572665,\n",
       "         0.36126033,  0.15563102,  0.43529318,  0.09589837,  0.42650438,\n",
       "         0.54841837,  0.13316777,  0.53979302,  0.39193371,  0.46142732],\n",
       "       [ 0.52573787,  0.46501512,  0.47826034,  0.44887057,  0.5883307 ,\n",
       "        -0.11844441,  0.57291377,  0.61070249,  0.62675049,  0.50473389,\n",
       "         0.34557595,  0.45094824,  0.54303105,  0.45423521,  0.57548667,\n",
       "         0.40756708,  0.51705118,  0.21188898,  0.17373906,  0.52179914,\n",
       "         0.49133794,  0.4529748 ,  0.54586583,  0.46755202,  0.17135659,\n",
       "         0.42868531, -0.12649243,  0.45868024,  0.54631326,  0.56796699],\n",
       "       [ 0.52743656,  0.44965565,  0.49540931,  0.4528471 ,  0.59419611,\n",
       "        -0.04621951,  0.56340283,  0.60775692,  0.56698126,  0.53309512,\n",
       "         0.35408487,  0.47997095,  0.59968087,  0.46215329,  0.56686185,\n",
       "         0.45121935,  0.53658345,  0.16385315,  0.19032584,  0.50764111,\n",
       "         0.51120089,  0.43984091,  0.56865711,  0.47932105,  0.14840178,\n",
       "         0.44608897, -0.12533194,  0.44352652,  0.56015048,  0.56966568],\n",
       "       [ 0.19290693,  0.13477801,  0.1537241 ,  0.16484645,  0.14294833,\n",
       "         0.14645687,  0.18227427,  0.13380146,  0.12006857,  0.14400084,\n",
       "         0.11762917,  0.1085568 ,  0.18350701,  0.11783769,  0.20861612,\n",
       "         0.1145164 ,  0.11571719,  0.09090921,  0.14650658,  0.14867774,\n",
       "         0.0551073 ,  0.1700567 ,  0.11915014,  0.11031339,  0.12271168,\n",
       "         0.15441921,  0.15635638,  0.09193482,  0.19587922,  0.19290693],\n",
       "       [ 0.50925635,  0.39548064,  0.46420379,  0.45588476,  0.59556907,\n",
       "        -0.09417701,  0.54946686,  0.55933498,  0.54578727,  0.50148429,\n",
       "         0.34107369,  0.42801254,  0.57319106,  0.41246119,  0.59338778,\n",
       "         0.42383519,  0.53208739,  0.13376093,  0.18232505,  0.49817895,\n",
       "         0.50472069,  0.43591465,  0.56912077,  0.40566231,  0.12788013,\n",
       "         0.42718764, -0.12514073,  0.42773694,  0.5644777 ,  0.55148547],\n",
       "       [ 0.52157007,  0.4039847 ,  0.47980201,  0.42361176,  0.52404579,\n",
       "        -0.17427045,  0.55443352,  0.54178098,  0.56657241,  0.51038152,\n",
       "         0.29397853,  0.44040406,  0.53208749,  0.45222597,  0.57384946,\n",
       "         0.39615501,  0.51231504,  0.13934301,  0.16018824,  0.64845501,\n",
       "         0.49248281,  0.40637268,  0.49141362,  0.409825  ,  0.11109684,\n",
       "         0.40317932, -0.15651019,  0.41401698,  0.5375493 ,  0.5637992 ],\n",
       "       [ 0.19764774,  0.18333422,  0.19385235,  0.220789  ,  0.21241002,\n",
       "         0.20701222,  0.2187172 ,  0.20379435,  0.1586775 ,  0.17766033,\n",
       "         0.15296049,  0.13102007,  0.15694721,  0.16824134,  0.21150096,\n",
       "         0.13203064,  0.12343731,  0.12942296,  0.18614784,  0.15023282,\n",
       "         0.06459366,  0.20742586,  0.17052907,  0.12435987,  0.16972925,\n",
       "         0.16143309,  0.17043398,  0.1340601 ,  0.19190656,  0.19764774],\n",
       "       [ 0.52201015,  0.4654177 ,  0.47262813,  0.46313663,  0.60559072,\n",
       "        -0.08918821,  0.59079915,  0.59520156,  0.57450216,  0.49767353,\n",
       "         0.33736035,  0.44531173,  0.56284769,  0.4524294 ,  0.5957076 ,\n",
       "         0.4211535 ,  0.54416997,  0.17755775,  0.19421707,  0.51308024,\n",
       "         0.5005646 ,  0.45453289,  0.56903013,  0.44800279,  0.16871879,\n",
       "         0.39492942, -0.12283609,  0.46044377,  0.55700821,  0.56423927],\n",
       "       [ 0.17522506,  0.12856537,  0.18946134,  0.18376537,  0.19099562,\n",
       "         0.16783999,  0.14337771,  0.19114511,  0.12719394,  0.14596517,\n",
       "         0.15240353,  0.1233898 ,  0.12775448,  0.1385017 ,  0.21411014,\n",
       "         0.09860164,  0.0956193 ,  0.09589893,  0.15912275,  0.12192231,\n",
       "         0.04749791,  0.17774709,  0.18047981,  0.09952315,  0.2389771 ,\n",
       "         0.13527414,  0.15222636,  0.14963455,  0.16394736,  0.17522506],\n",
       "       [ 0.51864673,  0.45112211,  0.44934917,  0.4670189 ,  0.60050196,\n",
       "        -0.11612356,  0.57500719,  0.58115581,  0.54633812,  0.50166711,\n",
       "         0.31574667,  0.45229127,  0.56747629,  0.42244393,  0.58104766,\n",
       "         0.41959927,  0.54833681,  0.14440487,  0.1564341 ,  0.49986753,\n",
       "         0.49345474,  0.44025988,  0.52638852,  0.44294842,  0.12751968,\n",
       "         0.42332111, -0.14839085,  0.44536342,  0.56005205,  0.56087586],\n",
       "       [ 0.5238817 ,  0.46230871,  0.47997785,  0.48126738,  0.5909474 ,\n",
       "        -0.08032707,  0.59129714,  0.61598565,  0.56911113,  0.49696612,\n",
       "         0.35516415,  0.43959338,  0.58295578,  0.44703376,  0.57649084,\n",
       "         0.41323517,  0.53903323,  0.15392101,  0.17910005,  0.51491212,\n",
       "         0.50044257,  0.48251111,  0.56543344,  0.45325071,  0.16833352,\n",
       "         0.41816507, -0.11770071,  0.47040278,  0.56202074,  0.56611083],\n",
       "       [ 0.54184759,  0.45064354,  0.47668779,  0.47176016,  0.58638669,\n",
       "        -0.07757759,  0.61655928,  0.56916008,  0.54351025,  0.53590205,\n",
       "         0.32659825,  0.42529455,  0.55158767,  0.43543934,  0.57683485,\n",
       "         0.42937951,  0.51735331,  0.12643667,  0.18076795,  0.52634253,\n",
       "         0.48323081,  0.45830788,  0.56270013,  0.41170207,  0.13866897,\n",
       "         0.42672146, -0.11864516,  0.40197249,  0.57996445,  0.58407671],\n",
       "       [ 0.49508596,  0.45412043,  0.45350182,  0.49666046,  0.63367667,\n",
       "        -0.09697931,  0.59382082,  0.54656336,  0.52003177,  0.49697819,\n",
       "         0.35014146,  0.42884112,  0.57208988,  0.43457037,  0.57349431,\n",
       "         0.42422119,  0.57768674,  0.12452505,  0.18915556,  0.49991227,\n",
       "         0.48663245,  0.43129476,  0.57650828,  0.40026339,  0.13964292,\n",
       "         0.42348424, -0.1347538 ,  0.4279203 ,  0.57797806,  0.53731508],\n",
       "       [ 0.1663308 ,  0.14886017,  0.1664573 ,  0.14818582,  0.17270739,\n",
       "         0.13926634,  0.16752003,  0.18596092,  0.18239668,  0.13540132,\n",
       "         0.11820386,  0.15001403,  0.13643093,  0.124208  ,  0.20716695,\n",
       "         0.12836349,  0.10224972,  0.13392797,  0.15759309,  0.14014609,\n",
       "         0.09525949,  0.15744674,  0.11110165,  0.16595674,  0.11837979,\n",
       "         0.12467337,  0.13513507,  0.15227838,  0.15521649,  0.1663308 ],\n",
       "       [ 0.52284251,  0.44900918,  0.47111489,  0.47993425,  0.63924318,\n",
       "        -0.06233016,  0.55437162,  0.59964338,  0.53852337,  0.57920621,\n",
       "         0.35339762,  0.44938255,  0.54281254,  0.45735207,  0.56048528,\n",
       "         0.43136704,  0.54292577,  0.15303917,  0.1750112 ,  0.49715777,\n",
       "         0.50328996,  0.46243461,  0.59705103,  0.42592414,  0.18389542,\n",
       "         0.42980926, -0.11945692,  0.4798767 ,  0.55925532,  0.56507164],\n",
       "       [ 0.52622873,  0.45120423,  0.46136925,  0.46165702,  0.57416012,\n",
       "        -0.09945508,  0.59919996,  0.55505673,  0.58488531,  0.51477729,\n",
       "         0.31613193,  0.43408059,  0.56416299,  0.43474379,  0.58378155,\n",
       "         0.43406755,  0.52057078,  0.14869925,  0.18665276,  0.52018136,\n",
       "         0.48169604,  0.43973296,  0.54165787,  0.4326098 ,  0.13169777,\n",
       "         0.41220468, -0.12331423,  0.42301887,  0.57107084,  0.56845785],\n",
       "       [ 0.5466837 ,  0.44951987,  0.49138534,  0.48964122,  0.60367876,\n",
       "        -0.06849961,  0.57537417,  0.60802121,  0.55391813,  0.54251458,\n",
       "         0.32932585,  0.4279021 ,  0.57895412,  0.45234834,  0.58653177,\n",
       "         0.42429534,  0.52415344,  0.15181582,  0.18156601,  0.52786051,\n",
       "         0.55203983,  0.44749697,  0.56158162,  0.4431579 ,  0.15748145,\n",
       "         0.43628143, -0.13596907,  0.45178388,  0.58441956,  0.58891282],\n",
       "       [ 0.13772579,  0.18105541,  0.19529395,  0.1921141 ,  0.1748848 ,\n",
       "         0.19351295,  0.1770231 ,  0.20644215,  0.22283275,  0.15883033,\n",
       "         0.18529479,  0.13893259,  0.17636256,  0.15763679,  0.16116105,\n",
       "         0.13276033,  0.13211934,  0.24017291,  0.19324772,  0.12854218,\n",
       "         0.09020902,  0.19864936,  0.16687717,  0.15070574,  0.16232397,\n",
       "         0.16431415,  0.15909839,  0.15053554,  0.18399653,  0.13772579],\n",
       "       [ 0.55194281,  0.45575458,  0.48705299,  0.50297915,  0.62818327,\n",
       "        -0.08505149,  0.59670935,  0.57987486,  0.54281158,  0.5482572 ,\n",
       "         0.34899924,  0.41832403,  0.54888365,  0.46137844,  0.59021416,\n",
       "         0.43251193,  0.54845623,  0.13720088,  0.18785058,  0.53142337,\n",
       "         0.47447507,  0.4551692 ,  0.57671673,  0.40222245,  0.16627672,\n",
       "         0.43274675, -0.11888027,  0.44292923,  0.58613083,  0.59417194],\n",
       "       [ 0.53903794,  0.42886794,  0.47648722,  0.44863171,  0.57809211,\n",
       "        -0.12257663,  0.57066465,  0.56382977,  0.56911863,  0.54242316,\n",
       "         0.31341171,  0.46273542,  0.55819313,  0.46507591,  0.60108004,\n",
       "         0.41947133,  0.52870435,  0.15998404,  0.18732983,  0.61915087,\n",
       "         0.50775719,  0.42560207,  0.53955846,  0.43153016,  0.13775267,\n",
       "         0.41707164, -0.13503763,  0.43616468,  0.55386882,  0.58126707],\n",
       "       [ 0.18670888,  0.1533623 ,  0.17004085,  0.18678713,  0.19939418,\n",
       "         0.1829135 ,  0.1765154 ,  0.1986479 ,  0.1423813 ,  0.15025721,\n",
       "         0.13922291,  0.12883283,  0.15893547,  0.13536768,  0.21308771,\n",
       "         0.1055299 ,  0.107968  ,  0.12448899,  0.14997371,  0.10703981,\n",
       "         0.07419661,  0.18988144,  0.15326126,  0.11425974,  0.16268137,\n",
       "         0.14271891,  0.16875961,  0.12026651,  0.17667055,  0.18670888],\n",
       "       [ 0.53484342,  0.45911479,  0.50196424,  0.46652729,  0.61831043,\n",
       "        -0.08860253,  0.58786778,  0.61560394,  0.56697751,  0.52144086,\n",
       "         0.35264161,  0.46300008,  0.58181974,  0.46860984,  0.59968918,\n",
       "         0.43474405,  0.54785998,  0.15958667,  0.19468829,  0.52447966,\n",
       "         0.5083397 ,  0.46380638,  0.58445151,  0.4471156 ,  0.17405675,\n",
       "         0.42555066, -0.11312464,  0.46999069,  0.56840231,  0.57707254]])"
      ]
     },
     "execution_count": 83,
     "metadata": {},
     "output_type": "execute_result"
    }
   ],
   "source": [
    "match_scores"
   ]
  },
  {
   "cell_type": "code",
   "execution_count": 84,
   "id": "a4de3047",
   "metadata": {},
   "outputs": [],
   "source": [
    "#find top recommendations for per user \n",
    "\n",
    "num_recommendations = 5\n"
   ]
  },
  {
   "cell_type": "code",
   "execution_count": 85,
   "id": "3bff747f",
   "metadata": {},
   "outputs": [],
   "source": [
    "#denormalize for display \n",
    "temp_user_df = user_df.copy()\n",
    "temp_prop_df = property_df.copy()\n",
    "\n",
    "temp_for_user_inverse = pd.DataFrame({\n",
    "    'Budget': temp_user_df['Budget'],   \n",
    "    'Price': np.zeros(len(temp_user_df)),       \n",
    "    'LivingArea': np.zeros(len(temp_user_df)),  \n",
    "    'Bedrooms': np.zeros(len(temp_user_df)),    \n",
    "    'Bathrooms': np.zeros(len(temp_user_df))\n",
    "    \n",
    "})\n",
    "denormalized_values = scaler.inverse_transform(temp_for_user_inverse)\n",
    "\n",
    "temp_user_df['Budget'] = denormalized_values[:,  0]\n",
    "\n",
    "temp_for_prop_inverse = pd.DataFrame({\n",
    "    'Budget': np.zeros(len(temp_prop_df)),   \n",
    "    'Price': temp_prop_df['Price'],      \n",
    "    'LivingArea': temp_prop_df['LivingArea'], \n",
    "    'Bedrooms': temp_prop_df['Bedrooms'],    \n",
    "    'Bathrooms': temp_prop_df['Bathrooms'],\n",
    "    \n",
    "})\n",
    "denormalized_values = scaler.inverse_transform(temp_for_prop_inverse)\n",
    "\n",
    "\n",
    "temp_prop_df['Price'] = denormalized_values[:, 1]\n",
    "temp_prop_df['Bedrooms'] = denormalized_values[:, 3]\n",
    "temp_prop_df['Bathrooms'] = denormalized_values[:, 4]\n"
   ]
  },
  {
   "cell_type": "code",
   "execution_count": 86,
   "id": "a1620dbc",
   "metadata": {},
   "outputs": [],
   "source": [
    "recommendations = {}\n",
    "for i in range(len(temp_user_df)):\n",
    "    user_id = temp_user_df.iloc[i]['UserId']\n",
    "    user_scores = match_scores[i]\n",
    "    \n",
    "    top_indices = np.argsort(user_scores)[::-1][:num_recommendations]\n",
    "    \n",
    "    #list of recommended properties with their scores\n",
    "    user_recommendations = []\n",
    "    for idx in top_indices:\n",
    "        property_id = temp_prop_df.iloc[idx]['PropertyId']\n",
    "        score = user_scores[idx]\n",
    "        price = temp_prop_df.iloc[idx]['Price']\n",
    "        beds = temp_prop_df.iloc[idx]['Bedrooms']\n",
    "        baths = temp_prop_df.iloc[idx]['Bathrooms']\n",
    "        \n",
    "        user_recommendations.append({\n",
    "            'PropertyId' : property_id,\n",
    "            'MatchScore' : round(score, 3),\n",
    "            'Price' : price,\n",
    "            'Bedrooms' : beds,\n",
    "            'Bathrooms' : baths\n",
    "        })\n",
    "    \n",
    "    recommendations[user_id] = user_recommendations"
   ]
  },
  {
   "cell_type": "code",
   "execution_count": 87,
   "id": "167f1e98",
   "metadata": {},
   "outputs": [],
   "source": [
    "recommendation_rows = []\n",
    "\n",
    "for user_id, props in recommendations.items():\n",
    "    user_budget = temp_user_df[temp_user_df['UserId'] == user_id]['Budget'].values[0]\n",
    "    \n",
    "    for rank, prop in enumerate(props, 1):\n",
    "        recommendation_rows.append({\n",
    "            'UserId': user_id,\n",
    "            'UserBudget': user_budget,\n",
    "            'PropertyId': prop['PropertyId'],\n",
    "            'Rank': rank,\n",
    "            'MatchScore': prop['MatchScore'],\n",
    "            'Price': prop['Price'],\n",
    "            'Bedrooms': prop['Bedrooms'],\n",
    "            'Bathrooms': prop['Bathrooms'],\n",
    "            'WithinBudget': 'Yes' if prop['Price'] <= user_budget else 'No'\n",
    "        })\n",
    "\n",
    "# recommendations dataframe\n",
    "recommendations_df = pd.DataFrame(recommendation_rows)"
   ]
  },
  {
   "cell_type": "code",
   "execution_count": 88,
   "id": "ed560d71",
   "metadata": {},
   "outputs": [
    {
     "name": "stdout",
     "output_type": "stream",
     "text": [
      "Sample Recommendations: \n",
      "   UserId  UserBudget  PropertyId  Rank  MatchScore     Price  Bedrooms  \\\n",
      "0       1    500000.0          23     1       0.554  300000.0       5.0   \n",
      "1       1    500000.0           5     2       0.550  250000.0       4.0   \n",
      "2       1    500000.0           9     3       0.549  400000.0       4.0   \n",
      "3       1    500000.0           8     4       0.548  600000.0       4.0   \n",
      "4       1    500000.0          29     5       0.540  700000.0       5.0   \n",
      "\n",
      "   Bathrooms WithinBudget  \n",
      "0        4.0          Yes  \n",
      "1        3.0          Yes  \n",
      "2        3.0          Yes  \n",
      "3        2.0           No  \n",
      "4        3.0           No  \n"
     ]
    }
   ],
   "source": [
    "#samplem\n",
    "print(\"Sample Recommendations: \")\n",
    "print(recommendations_df.head(5))"
   ]
  },
  {
   "cell_type": "code",
   "execution_count": 89,
   "id": "b2705c83",
   "metadata": {},
   "outputs": [
    {
     "name": "stdout",
     "output_type": "stream",
     "text": [
      "\n",
      "Overall Statistics:\n",
      "Total recommendations: 125\n",
      "Average match score: 0.479\n",
      "Highest match score : 0.648 \n",
      "Lowest match score : 0.168 \n",
      "Within budget recommendations: 55 (44.0%)\n"
     ]
    }
   ],
   "source": [
    "#some numbers :\n",
    "\n",
    "print(\"\\nOverall Statistics:\")\n",
    "print(f\"Total recommendations: {len(recommendations_df)}\")\n",
    "print(f\"Average match score: {recommendations_df['MatchScore'].mean():.3f}\")\n",
    "print(f\"Highest match score : {recommendations_df['MatchScore'].max():.3f} \")\n",
    "print(f\"Lowest match score : {recommendations_df['MatchScore'].min():.3f} \")\n",
    "print(f\"Within budget recommendations: {(recommendations_df['WithinBudget'] == 'Yes').sum()} ({(recommendations_df['WithinBudget'] == 'Yes').mean()*100:.1f}%)\")"
   ]
  },
  {
   "cell_type": "code",
   "execution_count": 78,
   "id": "27db6ac1",
   "metadata": {},
   "outputs": [],
   "source": [
    "import pickle\n",
    "\n",
    "#save scaler\n",
    "with open('scaler.pkl', 'wb') as f:\n",
    "    pickle.dump(scaler,  f)\n",
    "\n",
    "#save property df\n",
    "property_df.to_csv('property_df.csv', index=False)"
   ]
  }
 ],
 "metadata": {
  "kernelspec": {
   "display_name": "venv",
   "language": "python",
   "name": "python3"
  },
  "language_info": {
   "codemirror_mode": {
    "name": "ipython",
    "version": 3
   },
   "file_extension": ".py",
   "mimetype": "text/x-python",
   "name": "python",
   "nbconvert_exporter": "python",
   "pygments_lexer": "ipython3",
   "version": "3.9.13"
  }
 },
 "nbformat": 4,
 "nbformat_minor": 5
}
